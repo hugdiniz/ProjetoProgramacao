{
 "cells": [
  {
   "cell_type": "markdown",
   "metadata": {
    "toc-hr-collapsed": false
   },
   "source": [
    "\n",
    "<br>\n",
    "\n",
    "# Conceitos Básicos -- parte 2\n",
    "\n",
    "<h4>Conceitos Básicos</h4>\n",
    "<h5  class=\"alert alert-warning\" role=\"alert\">Atenção: Sempre executar a célula abaixo, antes de qualquer outra.</h5>"
   ]
  },
  {
   "cell_type": "code",
   "execution_count": null,
   "metadata": {},
   "outputs": [
    {
     "name": "stdout",
     "output_type": "stream",
     "text": [
      "The autoreload extension is already loaded. To reload it, use:\n",
      "  %reload_ext autoreload\n"
     ]
    },
    {
     "data": {
      "text/html": [
       "<style>\n",
       "h1, h2, h3, h4, h5, h6 {\n",
       "    color: #222;\n",
       "    font-weight: 600;\n",
       "    line-height: 1.3;\n",
       "}\n",
       "\n",
       "h2 {\n",
       "    margin-top: 1.3em;\n",
       "}\n",
       "\n",
       "a {\n",
       "    color: #0083e8;\n",
       "}\n",
       "\n",
       ".list{\n",
       "    color: black !important;\n",
       "    font-size: 20px;    \n",
       "}\n",
       "\n",
       ".title{\n",
       "    color: black !important;\n",
       "    font-size: 15px;\n",
       "    font-weight: 500;\n",
       "}\n",
       "\n",
       ".value{\n",
       "    color: black !important;\n",
       "    font-size: 14px;\n",
       "    \n",
       "}\n",
       "\n",
       ".alerta{\n",
       "    text-align: center;\n",
       "    color: #5c4030 !important;\n",
       "    font-weight: 500;\n",
       "\n",
       "}</style>"
      ],
      "text/plain": [
       "<IPython.core.display.HTML object>"
      ]
     },
     "metadata": {},
     "output_type": "display_data"
    },
    {
     "data": {
      "text/html": [
       "<style src='https://stackpath.bootstrapcdn.com/bootstrap/4.3.1/css/bootstrap.min.css'></style>"
      ],
      "text/plain": [
       "<IPython.core.display.HTML object>"
      ]
     },
     "metadata": {},
     "output_type": "display_data"
    },
    {
     "data": {
      "text/html": [
       "<script src='https://stackpath.bootstrapcdn.com/bootstrap/4.3.1/js/bootstrap.min.js'></script>"
      ],
      "text/plain": [
       "<IPython.core.display.HTML object>"
      ]
     },
     "metadata": {},
     "output_type": "display_data"
    }
   ],
   "source": [
    "%load_ext autoreload\n",
    "%autoreload 2\n",
    "import matplotlib.pyplot as plt\n",
    "from mpl_toolkits.mplot3d import Axes3D\n",
    "from IPython.display import display, Markdown, Latex,HTML\n",
    "from urllib.request import urlopen\n",
    "import sys\n",
    "\n",
    "\n",
    "import pandas as pd\n",
    "pd.options.display.max_columns = None\n",
    "import numpy as np\n",
    "from dateutil.parser import parse\n",
    "\n",
    "import random"
   ]
  },
  {
   "cell_type": "markdown",
   "metadata": {
    "toc-hr-collapsed": true
   },
   "source": [
    "## Loops:"
   ]
  },
  {
   "cell_type": "markdown",
   "metadata": {
    "toc-hr-collapsed": true
   },
   "source": [
    "### For (Para cada)"
   ]
  },
  {
   "cell_type": "code",
   "execution_count": 13,
   "metadata": {},
   "outputs": [
    {
     "name": "stdout",
     "output_type": "stream",
     "text": [
      "0\n",
      "1\n",
      "2\n"
     ]
    }
   ],
   "source": [
    "for i in range(3):\n",
    "    print(i)"
   ]
  },
  {
   "cell_type": "code",
   "execution_count": 16,
   "metadata": {},
   "outputs": [
    {
     "name": "stdout",
     "output_type": "stream",
     "text": [
      "0\n",
      "1\n",
      "2\n"
     ]
    }
   ],
   "source": [
    "i = 0\n",
    "while (i < 3):\n",
    "    print(i)\n",
    "    i = i + 1"
   ]
  },
  {
   "cell_type": "markdown",
   "metadata": {},
   "source": [
    "<div class=\"alert alert-success\" role=\"alert\">\n",
    "  <h4 class=\"alert-heading\">Exercicio Pŕatico 4:</h4>\n",
    "  <p>Imprimir na tela todos os numero inteiros pares menores 50</p> \n",
    "</div>"
   ]
  },
  {
   "cell_type": "code",
   "execution_count": null,
   "metadata": {},
   "outputs": [],
   "source": []
  },
  {
   "cell_type": "markdown",
   "metadata": {},
   "source": [
    "<div class=\"alert alert-success\" role=\"alert\">\n",
    "  <h4 class=\"alert-heading\">Exercicio Pŕatico 5:</h4>\n",
    "  <p>A partir da variável numeroRandomico Já criado, verificar todos os numeros primos menor que o numeroRandomico</p> \n",
    "</div>"
   ]
  },
  {
   "cell_type": "code",
   "execution_count": 23,
   "metadata": {},
   "outputs": [],
   "source": [
    "numeroRandomico = random.randint(0, 100)\n"
   ]
  },
  {
   "cell_type": "markdown",
   "metadata": {
    "toc-hr-collapsed": true
   },
   "source": [
    "<div class=\"alert alert-secondary\" role=\"alert\">\n",
    "  <h2 class=\"alert-heading\">Funções:</h2>\n",
    "  <p>Uma Função é uma forma inteligente de criar comandos pré-definidos e a partir deles chama-los sempre que for conviniente. Evitando repetição de código<br>\n",
    "</div>"
   ]
  },
  {
   "cell_type": "markdown",
   "metadata": {
    "toc-hr-collapsed": true
   },
   "source": [
    "### Exemplo de criação de Função"
   ]
  },
  {
   "cell_type": "code",
   "execution_count": 24,
   "metadata": {},
   "outputs": [
    {
     "data": {
      "text/plain": [
       "True"
      ]
     },
     "execution_count": 24,
     "metadata": {},
     "output_type": "execute_result"
    }
   ],
   "source": [
    "def verificarNumeroPar(x):\n",
    "    saida = x % 2 == 0\n",
    "    return saida\n",
    "verificarNumeroPar(10)"
   ]
  },
  {
   "cell_type": "markdown",
   "metadata": {},
   "source": [
    "<div class=\"alert alert-success\" role=\"alert\">\n",
    "  <h4 class=\"alert-heading\">Exercicio Pŕatico 6:</h4>\n",
    "  <p>A partir da função apresentada no exercicio prático 5, random.randint(x,y) na qual gera numeros aleátorios na qual x é o menor numero e y é o maior numero a ser gerado. Crie uma função na qual imprima todos os numeros até que um numero menor que 10 seja sorteado.<br>Use x = 0 e y = 100</p> \n",
    "</div>"
   ]
  },
  {
   "cell_type": "code",
   "execution_count": null,
   "metadata": {},
   "outputs": [],
   "source": [
    "numeroRandomico = random.randint(0, 100)\n"
   ]
  },
  {
   "cell_type": "markdown",
   "metadata": {},
   "source": [
    "<div class=\"alert alert-success\" role=\"alert\">\n",
    "  <h4 class=\"alert-heading\">Exercicio Pŕatico 7:</h4>\n",
    "  <p>. Faça uma função que retorne a soma dos n primeiros números ímpares, onde n é passado como parâmetro.</p> \n",
    "</div>"
   ]
  },
  {
   "cell_type": "code",
   "execution_count": null,
   "metadata": {},
   "outputs": [],
   "source": []
  },
  {
   "cell_type": "markdown",
   "metadata": {},
   "source": [
    "<div class=\"alert alert-success\" role=\"alert\">\n",
    "  <h4 class=\"alert-heading\">Exercicio Pŕatico 8:</h4>\n",
    "  <p>Crie uma função verificaPrimo para verificar se um numero inteiro qualquer é primo</p> \n",
    "</div>"
   ]
  },
  {
   "cell_type": "code",
   "execution_count": null,
   "metadata": {},
   "outputs": [],
   "source": []
  },
  {
   "cell_type": "markdown",
   "metadata": {},
   "source": [
    "<div class=\"alert alert-success\" role=\"alert\">\n",
    "  <h4 class=\"alert-heading\">Exercicio Pŕatico 9:</h4>\n",
    "  <p>Crie uma função que calcule a renda gerada em 1 ano de investimento em um fundo que traz retorno de 1.5% ao mês.</p> \n",
    "</div>"
   ]
  },
  {
   "cell_type": "code",
   "execution_count": null,
   "metadata": {},
   "outputs": [],
   "source": []
  },
  {
   "cell_type": "markdown",
   "metadata": {},
   "source": [
    "<div class=\"alert alert-success\" role=\"alert\">\n",
    "  <h4 class=\"alert-heading\">Exercicio Pŕatico 10:</h4>\n",
    "  <p>Crie uma função que calcule a renda gerada em 1 ano de investimento em um fundo que traz retorno de 1.5% ao mês.</p> \n",
    "</div>"
   ]
  },
  {
   "cell_type": "code",
   "execution_count": null,
   "metadata": {},
   "outputs": [],
   "source": []
  }
 ],
 "metadata": {
  "kernelspec": {
   "display_name": "Python 3",
   "language": "python",
   "name": "python3"
  },
  "language_info": {
   "codemirror_mode": {
    "name": "ipython",
    "version": 3
   },
   "file_extension": ".py",
   "mimetype": "text/x-python",
   "name": "python",
   "nbconvert_exporter": "python",
   "pygments_lexer": "ipython3",
   "version": "3.7.3"
  },
  "toc-autonumbering": false,
  "toc-showcode": false,
  "toc-showmarkdowntxt": true,
  "toc-showtags": false
 },
 "nbformat": 4,
 "nbformat_minor": 4
}
