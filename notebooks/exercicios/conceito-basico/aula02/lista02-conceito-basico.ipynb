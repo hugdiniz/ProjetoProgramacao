{
 "cells": [
  {
   "cell_type": "markdown",
   "metadata": {
    "toc-hr-collapsed": false
   },
   "source": [
    "<img style=\"margin-left:0px;\" src=\"http://www.radixeng.com.br/images/logos/radix-logo-completo.png\">\n",
    "<br>\n",
    "\n",
    "# Lista de Exercicios 02"
   ]
  },
  {
   "cell_type": "markdown",
   "metadata": {
    "toc-hr-collapsed": false
   },
   "source": [
    "## Import do Python"
   ]
  },
  {
   "cell_type": "code",
   "execution_count": null,
   "metadata": {},
   "outputs": [
    {
     "data": {
      "text/html": [
       "<style src='https://stackpath.bootstrapcdn.com/bootstrap/4.3.1/css/bootstrap.min.css'></style>"
      ],
      "text/plain": [
       "<IPython.core.display.HTML object>"
      ]
     },
     "metadata": {},
     "output_type": "display_data"
    },
    {
     "data": {
      "text/html": [
       "<script src='https://stackpath.bootstrapcdn.com/bootstrap/4.3.1/js/bootstrap.min.js'></script>"
      ],
      "text/plain": [
       "<IPython.core.display.HTML object>"
      ]
     },
     "metadata": {},
     "output_type": "display_data"
    },
    {
     "data": {
      "text/html": [
       "<style>\n",
       "h1, h2, h3, h4, h5, h6 {\n",
       "    color: #222;\n",
       "    font-weight: 600;\n",
       "    line-height: 1.3;\n",
       "}\n",
       "\n",
       "h2 {\n",
       "    margin-top: 1.3em;\n",
       "}\n",
       "\n",
       "a {\n",
       "    color: #0083e8;\n",
       "}\n",
       "\n",
       ".list{\n",
       "    color: black !important;\n",
       "    font-size: 20px;    \n",
       "}\n",
       "\n",
       ".title{\n",
       "    color: black !important;\n",
       "    font-size: 15px;\n",
       "    font-weight: 500;\n",
       "}\n",
       "\n",
       ".value{\n",
       "    color: black !important;\n",
       "    font-size: 14px;\n",
       "    \n",
       "}</style>"
      ],
      "text/plain": [
       "<IPython.core.display.HTML object>"
      ]
     },
     "metadata": {},
     "output_type": "display_data"
    }
   ],
   "source": [
    "%load_ext autoreload\n",
    "%autoreload 2\n",
    "from IPython.display import display, Markdown, Latex,HTML\n",
    "import sys\n",
    "\n",
    "import pandas as pd\n",
    "pd.options.display.max_columns = None\n",
    "import numpy as np\n",
    "from dateutil.parser import parse\n"
   ]
  },
  {
   "cell_type": "markdown",
   "metadata": {},
   "source": [
    "## Contar de 10 a 1\n",
    "\n",
    "Use um for para imprimir os números de 10 a 1 (em ordem decrescente).\n",
    "\n"
   ]
  },
  {
   "cell_type": "code",
   "execution_count": null,
   "metadata": {},
   "outputs": [],
   "source": []
  },
  {
   "cell_type": "markdown",
   "metadata": {},
   "source": [
    "\n",
    "## Somar Números de 1 a N\n",
    "Receba um número inteiro N e use um for para calcular e imprimir a soma de todos os números de 1 a N."
   ]
  },
  {
   "cell_type": "code",
   "execution_count": null,
   "metadata": {},
   "outputs": [],
   "source": []
  },
  {
   "cell_type": "markdown",
   "metadata": {},
   "source": [
    "## Contar até Encontrar um Número\n",
    "Receba um número inteiro X e use um while para contar de 1 até X, imprimindo cada número."
   ]
  },
  {
   "cell_type": "code",
   "execution_count": null,
   "metadata": {},
   "outputs": [],
   "source": []
  },
  {
   "cell_type": "markdown",
   "metadata": {},
   "source": [
    "\n",
    "## Imprimir Quadrados\n",
    "Use um for para imprimir o quadrado de todos os números de 1 a 10."
   ]
  },
  {
   "cell_type": "code",
   "execution_count": null,
   "metadata": {},
   "outputs": [],
   "source": []
  },
  {
   "cell_type": "markdown",
   "metadata": {},
   "source": [
    "## Fatorial de um Número\n",
    "Receba um número inteiro N e use um while para calcular e imprimir o fatorial de N."
   ]
  },
  {
   "cell_type": "code",
   "execution_count": null,
   "metadata": {},
   "outputs": [],
   "source": []
  },
  {
   "cell_type": "markdown",
   "metadata": {},
   "source": [
    "## Contar Números Múltiplos de 3\n",
    "Use um for para contar e imprimir todos os números múltiplos de 3 entre 1 e 30."
   ]
  },
  {
   "cell_type": "code",
   "execution_count": null,
   "metadata": {},
   "outputs": [],
   "source": []
  },
  {
   "cell_type": "markdown",
   "metadata": {},
   "source": [
    "# Imprimir Triângulo de Números\n",
    "Receba um número inteiro N e use um for para imprimir um triângulo de números. Exemplo para N = 5:\n",
    "\n",
    "Exemplo de Saída `N=5`:\n",
    "```\n",
    "1\n",
    "1 2\n",
    "1 2 3\n",
    "1 2 3 4\n",
    "1 2 3 4 5\n",
    "```"
   ]
  },
  {
   "cell_type": "code",
   "execution_count": null,
   "metadata": {},
   "outputs": [],
   "source": []
  }
 ],
 "metadata": {
  "kernelspec": {
   "display_name": "Python 3",
   "language": "python",
   "name": "python3"
  },
  "language_info": {
   "codemirror_mode": {
    "name": "ipython",
    "version": 3
   },
   "file_extension": ".py",
   "mimetype": "text/x-python",
   "name": "python",
   "nbconvert_exporter": "python",
   "pygments_lexer": "ipython3",
   "version": "3.7.3"
  },
  "toc-autonumbering": true,
  "toc-showcode": false,
  "toc-showmarkdowntxt": false
 },
 "nbformat": 4,
 "nbformat_minor": 4
}
