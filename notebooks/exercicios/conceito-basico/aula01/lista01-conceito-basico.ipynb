{
 "cells": [
  {
   "cell_type": "markdown",
   "metadata": {
    "toc-hr-collapsed": false
   },
   "source": [
    "<img style=\"margin-left:0px;\" src=\"http://www.radixeng.com.br/images/logos/radix-logo-completo.png\">\n",
    "<br>\n",
    "\n",
    "# Lista de Exercicios 01"
   ]
  },
  {
   "cell_type": "markdown",
   "metadata": {
    "toc-hr-collapsed": false
   },
   "source": [
    "## Import do Python"
   ]
  },
  {
   "cell_type": "code",
   "execution_count": null,
   "metadata": {},
   "outputs": [
    {
     "data": {
      "text/html": [
       "<style src='https://stackpath.bootstrapcdn.com/bootstrap/4.3.1/css/bootstrap.min.css'></style>"
      ],
      "text/plain": [
       "<IPython.core.display.HTML object>"
      ]
     },
     "metadata": {},
     "output_type": "display_data"
    },
    {
     "data": {
      "text/html": [
       "<script src='https://stackpath.bootstrapcdn.com/bootstrap/4.3.1/js/bootstrap.min.js'></script>"
      ],
      "text/plain": [
       "<IPython.core.display.HTML object>"
      ]
     },
     "metadata": {},
     "output_type": "display_data"
    },
    {
     "data": {
      "text/html": [
       "<style>\n",
       "h1, h2, h3, h4, h5, h6 {\n",
       "    color: #222;\n",
       "    font-weight: 600;\n",
       "    line-height: 1.3;\n",
       "}\n",
       "\n",
       "h2 {\n",
       "    margin-top: 1.3em;\n",
       "}\n",
       "\n",
       "a {\n",
       "    color: #0083e8;\n",
       "}\n",
       "\n",
       ".list{\n",
       "    color: black !important;\n",
       "    font-size: 20px;    \n",
       "}\n",
       "\n",
       ".title{\n",
       "    color: black !important;\n",
       "    font-size: 15px;\n",
       "    font-weight: 500;\n",
       "}\n",
       "\n",
       ".value{\n",
       "    color: black !important;\n",
       "    font-size: 14px;\n",
       "    \n",
       "}</style>"
      ],
      "text/plain": [
       "<IPython.core.display.HTML object>"
      ]
     },
     "metadata": {},
     "output_type": "display_data"
    }
   ],
   "source": [
    "%load_ext autoreload\n",
    "%autoreload 2\n",
    "from IPython.display import display, Markdown, Latex,HTML\n",
    "import sys\n",
    "\n",
    "import pandas as pd\n",
    "pd.options.display.max_columns = None\n",
    "import numpy as np\n",
    "from dateutil.parser import parse\n"
   ]
  },
  {
   "cell_type": "markdown",
   "metadata": {},
   "source": [
    "## Verificar Positivo ou Negativo\n",
    "\n",
    "Escreva um programa que receba um número inteiro e imprima \"Positivo\" se o número for maior que zero, \"Negativo\" se for menor que zero, e \"Zero\" se for igual a zero.\n"
   ]
  },
  {
   "cell_type": "code",
   "execution_count": null,
   "metadata": {},
   "outputs": [],
   "source": []
  },
  {
   "cell_type": "markdown",
   "metadata": {},
   "source": [
    "\n",
    "## Classificar Idade\n",
    "Receba uma idade e imprima:\n",
    "\n",
    "\"Criança\" se a idade for menor que 12,\n",
    "\"Adolescente\" se estiver entre 12 e 17,\n",
    "\"Adulto\" se for maior ou igual a 18."
   ]
  },
  {
   "cell_type": "code",
   "execution_count": null,
   "metadata": {},
   "outputs": [],
   "source": []
  },
  {
   "cell_type": "markdown",
   "metadata": {},
   "source": [
    "\n",
    "## Verificar Par ou Ímpar\n",
    "Receba um número inteiro e imprima \"Par\" se o número for divisível por 2, ou \"Ímpar\" caso contrário.\n"
   ]
  },
  {
   "cell_type": "code",
   "execution_count": null,
   "metadata": {},
   "outputs": [],
   "source": []
  },
  {
   "cell_type": "markdown",
   "metadata": {},
   "source": [
    "\n",
    "## Classificar Nota\n",
    "Receba uma nota de 0 a 100 e imprima:\n",
    "\n",
    "\"Aprovado\" se a nota for maior ou igual a 60,\n",
    "\"Recuperação\" se estiver entre 40 e 59,\n",
    "\"Reprovado\" se for menor que 40.\n"
   ]
  },
  {
   "cell_type": "code",
   "execution_count": null,
   "metadata": {},
   "outputs": [],
   "source": []
  }
 ],
 "metadata": {
  "kernelspec": {
   "display_name": "Python 3",
   "language": "python",
   "name": "python3"
  },
  "language_info": {
   "codemirror_mode": {
    "name": "ipython",
    "version": 3
   },
   "file_extension": ".py",
   "mimetype": "text/x-python",
   "name": "python",
   "nbconvert_exporter": "python",
   "pygments_lexer": "ipython3",
   "version": "3.7.3"
  },
  "toc-autonumbering": true,
  "toc-showcode": false,
  "toc-showmarkdowntxt": false
 },
 "nbformat": 4,
 "nbformat_minor": 4
}
